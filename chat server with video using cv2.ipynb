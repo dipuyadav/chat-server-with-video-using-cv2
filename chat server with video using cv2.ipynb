{
 "cells": [
  {
   "cell_type": "code",
   "execution_count": null,
   "metadata": {},
   "outputs": [],
   "source": [
    "import cv2\n",
    "import socket\n",
    "import  multithread\n",
    "import threading\n",
    "s=socket.socket()\n",
    "ip=\"\"\n",
    "port=2222\n",
    "s.bind((ip,port))\n",
    "s.listen()\n",
    "\n",
    "\n",
    "\n",
    "#client A\n",
    "def iiec(csessionA,addrA):\n",
    "    print(addrA)\n",
    "    csessionA.send(b'i m server')\n",
    "    dataA=csessionA.recv(100)\n",
    "    print(dataA)\n",
    "#calling simply\n",
    "#while True:\n",
    "#    iiec()\n",
    "\n",
    "#calling with thread\n",
    "\n",
    "while True:\n",
    "   csessionA,addrA=s.accept()\t\t\n",
    "   t1= threading.Thread(target=iiec,args=(csessionA,addrA))\n",
    "   t1.start()\n",
    "   cap=cv2.VideoCapture(1)\n",
    "   while True:\n",
    "        status,photo=cap.read()\n",
    "       # cv2.rectangle(photo,(277, 121),( 277+148,121+148),[0,255,0],5)\n",
    "        cv2.imshow('me',photo)\n",
    "        if cv2.waitKey(10)==13:\n",
    "            break\n",
    "        \n",
    "   cv2.destroyAllWindows()\n",
    "   cap.release()\n",
    "   \n",
    "#client B\n",
    "#csessionB,addrB=s.accept()\n",
    "#print(addrB)\n",
    "#csessionB.send(b'i m server')\n",
    "#dataB=csessionB.recv(100)\n",
    "#print(dataB)\n",
    "\n",
    "input()"
   ]
  },
  {
   "cell_type": "code",
   "execution_count": null,
   "metadata": {},
   "outputs": [],
   "source": []
  }
 ],
 "metadata": {
  "kernelspec": {
   "display_name": "Python 3",
   "language": "python",
   "name": "python3"
  },
  "language_info": {
   "codemirror_mode": {
    "name": "ipython",
    "version": 3
   },
   "file_extension": ".py",
   "mimetype": "text/x-python",
   "name": "python",
   "nbconvert_exporter": "python",
   "pygments_lexer": "ipython3",
   "version": "3.7.6"
  }
 },
 "nbformat": 4,
 "nbformat_minor": 4
}
